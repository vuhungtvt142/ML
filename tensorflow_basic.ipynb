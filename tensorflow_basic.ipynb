{
 "cells": [
  {
   "cell_type": "markdown",
   "id": "ae3845e3",
   "metadata": {},
   "source": [
    "# place holder"
   ]
  },
  {
   "cell_type": "code",
   "execution_count": 1,
   "id": "1174df3e",
   "metadata": {},
   "outputs": [
    {
     "name": "stdout",
     "output_type": "stream",
     "text": [
      "[ 4. 10. 18.]\n"
     ]
    }
   ],
   "source": [
    "import numpy\n",
    "import tensorflow as tf\n",
    "tf.compat.v1.disable_eager_execution()\n",
    "X_1 = tf.compat.v1.placeholder(tf.float32, name = \"X_1\")\n",
    "X_2 = tf.compat.v1.placeholder(tf.float32, name = \"X_2\")\n",
    "multiply = tf.multiply(X_1, X_2, name = \"multiply\")\n",
    "with tf.compat.v1.Session() as session:\n",
    "    result = session.run(multiply, feed_dict={X_1:[1,2,3], X_2:[4,5,6]})\n",
    "    print(result)"
   ]
  },
  {
   "cell_type": "code",
   "execution_count": 2,
   "id": "e4be5765",
   "metadata": {},
   "outputs": [
    {
     "name": "stdout",
     "output_type": "stream",
     "text": [
      "WARNING:tensorflow:From C:\\Users\\VU HUNG\\AppData\\Local\\Temp\\ipykernel_3332\\119972803.py:5: DatasetV1.make_initializable_iterator (from tensorflow.python.data.ops.dataset_ops) is deprecated and will be removed in a future version.\n",
      "Instructions for updating:\n",
      "This is a deprecated API that should only be used in TF 1 graph mode and legacy TF 2 graph mode available through `tf.compat.v1`. In all other situations -- namely, eager mode and inside `tf.function` -- you can consume dataset elements using `for elem in dataset: ...` or by explicitly creating iterator via `iterator = iter(dataset)` and fetching its elements via `values = next(iterator)`. Furthermore, this API is not available in TF 2. During the transition from TF 1 to TF 2 you can use `tf.compat.v1.data.make_initializable_iterator(dataset)` to create a TF 1 graph mode style iterator for a dataset created through TF 2 APIs. Note that this should be a transient state of your code base as there are in general no guarantees about the interoperability of TF 1 and TF 2 code.\n",
      "[0.25593743 0.2677976 ]\n"
     ]
    }
   ],
   "source": [
    "import numpy as np\n",
    "x_input=np.random.sample((1,2))\n",
    "x = tf.compat.v1.placeholder(tf.float32, shape=[1,2], name = 'X')\n",
    "dataset = tf.compat.v1.data.Dataset.from_tensor_slices(x)\n",
    "iterator = dataset.make_initializable_iterator()\n",
    "get_next = iterator.get_next()\n",
    "with tf.compat.v1.Session() as sess:\n",
    "    # feed the placeholder with data\n",
    "    sess.run(iterator.initializer, feed_dict={ x: x_input })\n",
    "    print(sess.run(get_next)) # output [ 0.52374458  0.71968478]"
   ]
  },
  {
   "cell_type": "code",
   "execution_count": 29,
   "id": "9447dab0",
   "metadata": {},
   "outputs": [
    {
     "name": "stdout",
     "output_type": "stream",
     "text": [
      "[30.0, 200.0]\n"
     ]
    }
   ],
   "source": [
    "tf.compat.v1.disable_eager_execution()\n",
    "p2=tf.compat.v1.placeholder(tf.float32)\n",
    "p1=tf.compat.v1.placeholder(tf.float32)\n",
    "with tf.compat.v1.Session() as sess:\n",
    "    print(sess.run([p1+p2,p1*p2],feed_dict={p1:10,p2:20}))"
   ]
  },
  {
   "cell_type": "markdown",
   "id": "794fd441",
   "metadata": {},
   "source": [
    "# constant"
   ]
  },
  {
   "cell_type": "code",
   "execution_count": 16,
   "id": "504005e5",
   "metadata": {},
   "outputs": [
    {
     "name": "stdout",
     "output_type": "stream",
     "text": [
      "tf.Tensor(\n",
      "[[1 2]\n",
      " [3 4]], shape=(2, 2), dtype=int16)\n",
      "tf.Tensor(\n",
      "[[1. 1.]\n",
      " [3. 4.]], shape=(2, 2), dtype=float32)\n",
      "tf.Tensor(\n",
      "[[2. 3.]\n",
      " [6. 8.]], shape=(2, 2), dtype=float32)\n"
     ]
    }
   ],
   "source": [
    "import tensorflow as tf\n",
    "r1_decimal =  tf.constant([ [1, 2],[3, 4] ],tf.int16,name='a')\n",
    "r2_decimal= tf.constant([ [1, 1],[3, 4] ],tf.float32,name='b')\n",
    "print(r1_decimal)\n",
    "print(r2_decimal)\n",
    "print(tf.cast(r1_decimal,tf.float32)+r2_decimal)\n",
    "#sess = tf.compat.v1.Session()\n",
    "#with sess.as_default():\n",
    "    #print(r1_decimal)"
   ]
  },
  {
   "cell_type": "code",
   "execution_count": 16,
   "id": "c7e87f73",
   "metadata": {},
   "outputs": [
    {
     "name": "stdout",
     "output_type": "stream",
     "text": [
      "(2, 2)\n"
     ]
    }
   ],
   "source": [
    "tensor_const=tf.constant([[10, 20],[30, 40]])\n",
    "var_init_2 = tf.compat.v1.get_variable(\"var_init_2\", dtype=tf.int32,  initializer=tensor_const)\n",
    "print(var_init_2.shape)"
   ]
  },
  {
   "cell_type": "code",
   "execution_count": 47,
   "id": "2d3d7dad",
   "metadata": {},
   "outputs": [
    {
     "name": "stdout",
     "output_type": "stream",
     "text": [
      "Tensor(\"Mul_9:0\", shape=(1,), dtype=int32)\n",
      "[2]\n"
     ]
    }
   ],
   "source": [
    "x=tf.constant([1])\n",
    "y=tf.constant([2])\n",
    "mul=tf.multiply(x, y)\n",
    "print(mul)\n",
    "with tf.compat.v1.Session() as session:\n",
    "    result=session.run( tf.multiply(x, y))\n",
    "    print(result)"
   ]
  },
  {
   "cell_type": "markdown",
   "id": "d3d5af9b",
   "metadata": {},
   "source": [
    "# variable"
   ]
  },
  {
   "cell_type": "code",
   "execution_count": 3,
   "id": "9ce911a8",
   "metadata": {},
   "outputs": [
    {
     "name": "stdout",
     "output_type": "stream",
     "text": [
      "20\n"
     ]
    }
   ],
   "source": [
    "a=tf.compat.v1.Variable(name='b',initial_value=20)\n",
    "#sess=tf.compat.v1.Session()\n",
    "with tf.compat.v1.Session() as sess:\n",
    "    #sess.run(a.initializer) #khởi tạo\n",
    "    #print(sess.run(a))\n",
    "    sess.run(tf.compat.v1.global_variables_initializer())\n",
    "    print(sess.run(a))"
   ]
  }
 ],
 "metadata": {
  "kernelspec": {
   "display_name": "Python 3 (ipykernel)",
   "language": "python",
   "name": "python3"
  },
  "language_info": {
   "codemirror_mode": {
    "name": "ipython",
    "version": 3
   },
   "file_extension": ".py",
   "mimetype": "text/x-python",
   "name": "python",
   "nbconvert_exporter": "python",
   "pygments_lexer": "ipython3",
   "version": "3.10.6"
  }
 },
 "nbformat": 4,
 "nbformat_minor": 5
}
