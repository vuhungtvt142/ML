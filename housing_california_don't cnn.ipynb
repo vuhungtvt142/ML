{
 "cells": [
  {
   "cell_type": "code",
   "execution_count": null,
   "id": "82d5c9d2",
   "metadata": {},
   "outputs": [],
   "source": [
    "import tensorflow as tf\n",
    "import numpy as np\n",
    "import pandas as pd\n",
    "!git clone https://github.com/ageron/handson-ml.git   # hounsing data"
   ]
  },
  {
   "cell_type": "code",
   "execution_count": null,
   "id": "075e93fb",
   "metadata": {},
   "outputs": [],
   "source": [
    "housing=pd.read_csv('/content/handson-ml/datasets/housing/housing.csv')"
   ]
  },
  {
   "cell_type": "code",
   "execution_count": null,
   "id": "d6b35335",
   "metadata": {},
   "outputs": [],
   "source": [
    "housing.head()"
   ]
  },
  {
   "cell_type": "markdown",
   "id": "b7fa4e3a",
   "metadata": {},
   "source": [
    "# understand data"
   ]
  },
  {
   "cell_type": "code",
   "execution_count": null,
   "id": "df90ad43",
   "metadata": {},
   "outputs": [],
   "source": [
    "housing.columns"
   ]
  },
  {
   "cell_type": "code",
   "execution_count": null,
   "id": "a270ab5d",
   "metadata": {},
   "outputs": [],
   "source": [
    "housing.info()"
   ]
  },
  {
   "cell_type": "code",
   "execution_count": null,
   "id": "872def63",
   "metadata": {},
   "outputs": [],
   "source": [
    "housing.describe()"
   ]
  },
  {
   "cell_type": "code",
   "execution_count": null,
   "id": "9be7f4b6",
   "metadata": {},
   "outputs": [],
   "source": [
    "housing.corr()"
   ]
  },
  {
   "cell_type": "code",
   "execution_count": null,
   "id": "8332e7c0",
   "metadata": {},
   "outputs": [],
   "source": [
    "#matrix correlation \n",
    "import seaborn as sns\n",
    "%matplotlib inline\n",
    "import matplotlib.pyplot as plt\n",
    "plt.figure(figsize=(20,11))\n",
    "sns.heatmap(housing.corr(), annot = True, annot_kws={'size':10},linewidths=1,cmap=plt.cm.Reds)"
   ]
  },
  {
   "cell_type": "code",
   "execution_count": null,
   "id": "ea1ba5f8",
   "metadata": {},
   "outputs": [],
   "source": [
    "housing.hist(bins=50, figsize=(20, 15))\n",
    "plt.show()"
   ]
  },
  {
   "cell_type": "code",
   "execution_count": 1,
   "id": "5ccd5841",
   "metadata": {},
   "outputs": [
    {
     "name": "stderr",
     "output_type": "stream",
     "text": [
      "'[]' is not recognized as an internal or external command,\n",
      "operable program or batch file.\n",
      "'h' is not recognized as an internal or external command,\n",
      "operable program or batch file.\n",
      "'c' is not recognized as an internal or external command,\n",
      "operable program or batch file.\n",
      "'r' is not recognized as an internal or external command,\n",
      "operable program or batch file.\n",
      "'o' is not recognized as an internal or external command,\n",
      "operable program or batch file.\n",
      "'pid' is not recognized as an internal or external command,\n",
      "operable program or batch file.\n"
     ]
    }
   ],
   "source": [
    "#image california map\n",
    "![](https://th.bing.com/th/id/OIP.QjIh5J-7PpzkcpZ38ncbvgHaG9?w=194&h=184&c=7&r=0&o=5&pid=1.7)"
   ]
  },
  {
   "cell_type": "code",
   "execution_count": null,
   "id": "0a5e4ed0",
   "metadata": {},
   "outputs": [],
   "source": [
    "housing.plot(kind='scatter', x='longitude', y='latitude', alpha=0.1)"
   ]
  },
  {
   "cell_type": "code",
   "execution_count": null,
   "id": "77080489",
   "metadata": {},
   "outputs": [],
   "source": [
    "housing.plot(kind='scatter', x='longitude', y='latitude', alpha=0.4,s=housing['population']/50,\n",
    "             label='population', figsize=(12,8), c='median_house_value',cmap=plt.get_cmap('jet'))"
   ]
  },
  {
   "cell_type": "code",
   "execution_count": null,
   "id": "97b6ed01",
   "metadata": {},
   "outputs": [],
   "source": [
    "#đếm các giá trị null và không null\n",
    "print('số các giá trị null:\\n ',housing.isnull().sum())\n",
    "print('--------------------------------------------------')\n",
    "print('số các giá trị không null:\\n ',housing.notnull().sum()) "
   ]
  },
  {
   "cell_type": "code",
   "execution_count": null,
   "id": "95326af6",
   "metadata": {},
   "outputs": [],
   "source": [
    "#đếm tỉ lệ isnull trên tổng số liệu trong 1 cột \n",
    "total = housing.isnull().sum().sort_values(ascending=False)\n",
    "count=housing.isnull().count()\n",
    "percent = (housing.isnull().sum()/housing.isnull().count()).sort_values(ascending=False)\n",
    "missing_data = pd.concat([total, count], axis=1, keys=['Total', 'count'])\n",
    "missing_data['percent']=percent\n",
    "f, ax = plt.subplots(figsize=(15, 6))\n",
    "#plt.xticks(rotation='90')\n",
    "sns.barplot(missing_data.index, missing_data['percent'])\n",
    "plt.xlabel('Features', fontsize=15)\n",
    "plt.ylabel('Percent of missing values', fontsize=15)\n",
    "plt.title('Percent missing data by feature', fontsize=15)\n",
    "missing_data"
   ]
  },
  {
   "cell_type": "code",
   "execution_count": null,
   "id": "a2fd4691",
   "metadata": {},
   "outputs": [],
   "source": [
    "import seaborn as sns\n",
    "%matplotlib inline\n",
    "plt.figure(figsize=(10,7))\n",
    "sns.heatmap(housing.isna())"
   ]
  },
  {
   "cell_type": "code",
   "execution_count": null,
   "id": "1025ba1d",
   "metadata": {},
   "outputs": [],
   "source": [
    "#số lượng dữ liệu duy nhất\n",
    "housing.nunique()"
   ]
  },
  {
   "cell_type": "code",
   "execution_count": null,
   "id": "ac8d9a42",
   "metadata": {},
   "outputs": [],
   "source": [
    "#thống kê định tính\n",
    "print(housing.iloc[:,-1].describe())"
   ]
  },
  {
   "cell_type": "markdown",
   "id": "f795c07a",
   "metadata": {},
   "source": [
    "# xử lí miss data"
   ]
  },
  {
   "cell_type": "code",
   "execution_count": null,
   "id": "51934fba",
   "metadata": {},
   "outputs": [],
   "source": [
    "median = housing[\"total_bedrooms\"].median()\n",
    "housing[\"total_bedrooms\"].fillna(median, inplace=True)\n",
    "housing[\"total_bedrooms\"].isnull().sum()"
   ]
  },
  {
   "cell_type": "markdown",
   "id": "675c157d",
   "metadata": {},
   "source": [
    "# **combination features**"
   ]
  },
  {
   "cell_type": "code",
   "execution_count": null,
   "id": "1c9059d3",
   "metadata": {},
   "outputs": [],
   "source": [
    "housing['room_per_household'] = housing['total_rooms'] / housing['households']\n",
    "\n",
    "housing['bedroom_per_household'] = housing['total_bedrooms'] / housing['households']\n",
    "\n",
    "housing['population_per_household'] = housing['population'] / housing['households']"
   ]
  },
  {
   "cell_type": "code",
   "execution_count": null,
   "id": "4b13394d",
   "metadata": {},
   "outputs": [],
   "source": [
    "housing"
   ]
  },
  {
   "cell_type": "code",
   "execution_count": null,
   "id": "e5d69cee",
   "metadata": {},
   "outputs": [],
   "source": [
    "housing.corr().median_house_value.sort_values()"
   ]
  },
  {
   "cell_type": "markdown",
   "id": "f66c66aa",
   "metadata": {},
   "source": [
    "# **text to categories**"
   ]
  },
  {
   "cell_type": "code",
   "execution_count": null,
   "id": "af457c60",
   "metadata": {},
   "outputs": [],
   "source": [
    "housing.ocean_proximity.unique()"
   ]
  },
  {
   "cell_type": "code",
   "execution_count": null,
   "id": "822eee9c",
   "metadata": {},
   "outputs": [],
   "source": [
    "housing_dumies=pd.get_dummies(housing,prefix=['ocean_proximity'])"
   ]
  },
  {
   "cell_type": "markdown",
   "id": "6fc69863",
   "metadata": {},
   "source": [
    "# **scaling data**"
   ]
  },
  {
   "cell_type": "code",
   "execution_count": null,
   "id": "8ab3ff5a",
   "metadata": {},
   "outputs": [],
   "source": [
    "from sklearn.preprocessing import StandardScaler\n",
    "from sklearn.preprocessing import MinMaxScaler\n",
    " \n",
    "#call the standard scaler \n",
    "std_scaler = StandardScaler()\n",
    "minmax_scaler=MinMaxScaler()\n",
    " \n",
    "#fit the values to the function \n",
    "Stand_Sc = std_scaler.fit_transform(housing_dumies.drop('median_house_value',axis=1))\n",
    "minmax_sc = minmax_scaler.fit_transform(housing_dumies.drop('median_house_value',axis=1)) "
   ]
  },
  {
   "cell_type": "code",
   "execution_count": null,
   "id": "4a186c7a",
   "metadata": {},
   "outputs": [],
   "source": [
    "#use seaborn for KDE plot\n",
    "import seaborn as sns\n",
    "sns.kdeplot(Stand_Sc[:,5],fill=True, color = 'Yellow')"
   ]
  },
  {
   "cell_type": "code",
   "execution_count": null,
   "id": "c77bfb04",
   "metadata": {},
   "outputs": [],
   "source": [
    "sns.kdeplot(minmax_sc[:,5],fill=True, color = 'Green')"
   ]
  },
  {
   "cell_type": "code",
   "execution_count": null,
   "id": "fc81e5a4",
   "metadata": {},
   "outputs": [],
   "source": [
    "x_data=minmax_sc\n",
    "y_data=minmax_scaler.fit_transform(np.array(housing_dumies['median_house_value']).reshape(x_data.shape[0],1))\n",
    "print(x_data.shape)\n",
    "print(y_data.shape)"
   ]
  },
  {
   "cell_type": "markdown",
   "id": "785324be",
   "metadata": {},
   "source": [
    "# **train model**"
   ]
  },
  {
   "cell_type": "code",
   "execution_count": null,
   "id": "dae4c715",
   "metadata": {},
   "outputs": [],
   "source": [
    "from sklearn.model_selection import train_test_split\n",
    "x_train,x_test,y_train,y_test=train_test_split(x_data,y_data,test_size=0.2)"
   ]
  },
  {
   "cell_type": "code",
   "execution_count": null,
   "id": "b6cf859e",
   "metadata": {},
   "outputs": [],
   "source": [
    "n_dim=x_data.shape[1]"
   ]
  },
  {
   "cell_type": "code",
   "execution_count": null,
   "id": "592a14c8",
   "metadata": {},
   "outputs": [],
   "source": [
    "tf.compat.v1.disable_eager_execution()\n",
    "x=tf.compat.v1.placeholder(tf.float32,[None,n_dim])\n",
    "y=tf.compat.v1.placeholder(tf.float32,[None,1])\n",
    "w=tf.Variable(tf.ones([n_dim,1]))\n",
    "b=tf.Variable(np.random.randn(),dtype=tf.float32)"
   ]
  },
  {
   "cell_type": "code",
   "execution_count": null,
   "id": "ca6ae03b",
   "metadata": {},
   "outputs": [],
   "source": [
    "pred=tf.add(tf.matmul(x,w),b)"
   ]
  },
  {
   "cell_type": "code",
   "execution_count": null,
   "id": "8d3c269d",
   "metadata": {},
   "outputs": [],
   "source": [
    "learning_rate=400\n",
    "loss=tf.sqrt(tf.reduce_mean(tf.square(y-pred)))\n",
    "optimizer=tf.compat.v1.train.GradientDescentOptimizer(learning_rate=learning_rate).minimize(loss)"
   ]
  },
  {
   "cell_type": "code",
   "execution_count": null,
   "id": "af1f1e75",
   "metadata": {},
   "outputs": [],
   "source": [
    "sess=tf.compat.v1.Session()\n",
    "sess.run(tf.compat.v1.global_variables_initializer())"
   ]
  },
  {
   "cell_type": "code",
   "execution_count": null,
   "id": "5bd01fce",
   "metadata": {},
   "outputs": [],
   "source": [
    "epochs=40000\n",
    "loss_cur=[]\n",
    "for epoch in range(epochs):\n",
    "    sess.run(optimizer,feed_dict={x:x_train,y:y_train})\n",
    "    test_loss=sess.run(loss,feed_dict={x:x_test,y:y_test})\n",
    "    train_loss=sess.run(loss,feed_dict={x:x_train,y:y_train})\n",
    "    loss_cur.append([test_loss,train_loss])\n",
    "    if epoch%400==0:\n",
    "        print('epoch {} with test loss {} vs train loss {}'.format(epoch,test_loss,train_loss)) "
   ]
  }
 ],
 "metadata": {
  "kernelspec": {
   "display_name": "Python 3 (ipykernel)",
   "language": "python",
   "name": "python3"
  },
  "language_info": {
   "codemirror_mode": {
    "name": "ipython",
    "version": 3
   },
   "file_extension": ".py",
   "mimetype": "text/x-python",
   "name": "python",
   "nbconvert_exporter": "python",
   "pygments_lexer": "ipython3",
   "version": "3.10.6"
  }
 },
 "nbformat": 4,
 "nbformat_minor": 5
}
