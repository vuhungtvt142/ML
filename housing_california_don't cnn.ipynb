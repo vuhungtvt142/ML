{
 "cells": [
  {
   "cell_type": "markdown",
   "id": "62288585",
   "metadata": {},
   "source": [
    "GradientDescentOptimizer. TensorFlow 2.x"
   ]
  },
  {
   "cell_type": "code",
   "execution_count": null,
   "id": "7649d24c",
   "metadata": {},
   "outputs": [],
   "source": [
    "import tensorflow as tf\n",
    "import numpy as np\n",
    "import pandas as pd\n",
    "!git clone https://github.com/ageron/handson-ml.git   # hounsing data"
   ]
  },
  {
   "cell_type": "code",
   "execution_count": null,
   "id": "a8f726f2",
   "metadata": {},
   "outputs": [],
   "source": [
    "housing=pd.read_csv('/content/handson-ml/datasets/housing/housing.csv')"
   ]
  },
  {
   "cell_type": "code",
   "execution_count": null,
   "id": "54910369",
   "metadata": {},
   "outputs": [],
   "source": [
    "housing.head()"
   ]
  },
  {
   "cell_type": "markdown",
   "id": "1d65929e",
   "metadata": {},
   "source": [
    "# understand data"
   ]
  },
  {
   "cell_type": "code",
   "execution_count": null,
   "id": "5cc92b6a",
   "metadata": {},
   "outputs": [],
   "source": [
    "housing.columns"
   ]
  },
  {
   "cell_type": "code",
   "execution_count": null,
   "id": "e16b215b",
   "metadata": {},
   "outputs": [],
   "source": [
    "housing.info()"
   ]
  },
  {
   "cell_type": "code",
   "execution_count": null,
   "id": "202dd387",
   "metadata": {},
   "outputs": [],
   "source": [
    "housing.describe()"
   ]
  },
  {
   "cell_type": "code",
   "execution_count": null,
   "id": "dc642328",
   "metadata": {},
   "outputs": [],
   "source": [
    "housing.corr()"
   ]
  },
  {
   "cell_type": "code",
   "execution_count": null,
   "id": "391a6e30",
   "metadata": {},
   "outputs": [],
   "source": [
    "#matrix correlation \n",
    "import seaborn as sns\n",
    "%matplotlib inline\n",
    "import matplotlib.pyplot as plt\n",
    "plt.figure(figsize=(20,11))\n",
    "sns.heatmap(housing.corr(), annot = True, annot_kws={'size':10},linewidths=1,cmap=plt.cm.Reds)"
   ]
  },
  {
   "cell_type": "code",
   "execution_count": null,
   "id": "1913e955",
   "metadata": {},
   "outputs": [],
   "source": [
    "housing.hist(bins=50, figsize=(20, 15))\n",
    "plt.show()"
   ]
  },
  {
   "cell_type": "code",
   "execution_count": 1,
   "id": "03ca20ea",
   "metadata": {},
   "outputs": [
    {
     "name": "stderr",
     "output_type": "stream",
     "text": [
      "'[]' is not recognized as an internal or external command,\n",
      "operable program or batch file.\n",
      "'h' is not recognized as an internal or external command,\n",
      "operable program or batch file.\n",
      "'c' is not recognized as an internal or external command,\n",
      "operable program or batch file.\n",
      "'r' is not recognized as an internal or external command,\n",
      "operable program or batch file.\n",
      "'o' is not recognized as an internal or external command,\n",
      "operable program or batch file.\n",
      "'pid' is not recognized as an internal or external command,\n",
      "operable program or batch file.\n"
     ]
    }
   ],
   "source": [
    "#image california map\n",
    "![](https://th.bing.com/th/id/OIP.QjIh5J-7PpzkcpZ38ncbvgHaG9?w=194&h=184&c=7&r=0&o=5&pid=1.7)"
   ]
  },
  {
   "cell_type": "code",
   "execution_count": null,
   "id": "1b6bdf1a",
   "metadata": {},
   "outputs": [],
   "source": [
    "housing.plot(kind='scatter', x='longitude', y='latitude', alpha=0.1)"
   ]
  },
  {
   "cell_type": "code",
   "execution_count": null,
   "id": "f67f52bc",
   "metadata": {},
   "outputs": [],
   "source": [
    "housing.plot(kind='scatter', x='longitude', y='latitude', alpha=0.4,s=housing['population']/50,\n",
    "             label='population', figsize=(12,8), c='median_house_value',cmap=plt.get_cmap('jet'))"
   ]
  },
  {
   "cell_type": "code",
   "execution_count": null,
   "id": "62718997",
   "metadata": {},
   "outputs": [],
   "source": [
    "#đếm các giá trị null và không null\n",
    "print('số các giá trị null:\\n ',housing.isnull().sum())\n",
    "print('--------------------------------------------------')\n",
    "print('số các giá trị không null:\\n ',housing.notnull().sum()) "
   ]
  },
  {
   "cell_type": "code",
   "execution_count": null,
   "id": "de0e972f",
   "metadata": {},
   "outputs": [],
   "source": [
    "#đếm tỉ lệ isnull trên tổng số liệu trong 1 cột \n",
    "total = housing.isnull().sum().sort_values(ascending=False)\n",
    "count=housing.isnull().count()\n",
    "percent = (housing.isnull().sum()/housing.isnull().count()).sort_values(ascending=False)\n",
    "missing_data = pd.concat([total, count], axis=1, keys=['Total', 'count'])\n",
    "missing_data['percent']=percent\n",
    "f, ax = plt.subplots(figsize=(15, 6))\n",
    "#plt.xticks(rotation='90')\n",
    "sns.barplot(missing_data.index, missing_data['percent'])\n",
    "plt.xlabel('Features', fontsize=15)\n",
    "plt.ylabel('Percent of missing values', fontsize=15)\n",
    "plt.title('Percent missing data by feature', fontsize=15)\n",
    "missing_data"
   ]
  },
  {
   "cell_type": "code",
   "execution_count": null,
   "id": "bae29524",
   "metadata": {},
   "outputs": [],
   "source": [
    "import seaborn as sns\n",
    "%matplotlib inline\n",
    "plt.figure(figsize=(10,7))\n",
    "sns.heatmap(housing.isna())"
   ]
  },
  {
   "cell_type": "code",
   "execution_count": null,
   "id": "faf09ba0",
   "metadata": {},
   "outputs": [],
   "source": [
    "#số lượng dữ liệu duy nhất\n",
    "housing.nunique()"
   ]
  },
  {
   "cell_type": "code",
   "execution_count": null,
   "id": "2e78aa91",
   "metadata": {},
   "outputs": [],
   "source": [
    "#thống kê định tính\n",
    "print(housing.iloc[:,-1].describe())"
   ]
  },
  {
   "cell_type": "markdown",
   "id": "2d7a8bfc",
   "metadata": {},
   "source": [
    "# xử lí miss data"
   ]
  },
  {
   "cell_type": "code",
   "execution_count": null,
   "id": "49175529",
   "metadata": {},
   "outputs": [],
   "source": [
    "median = housing[\"total_bedrooms\"].median()\n",
    "housing[\"total_bedrooms\"].fillna(median, inplace=True)\n",
    "housing[\"total_bedrooms\"].isnull().sum()"
   ]
  },
  {
   "cell_type": "markdown",
   "id": "16e87499",
   "metadata": {},
   "source": [
    "# **combination features**"
   ]
  },
  {
   "cell_type": "code",
   "execution_count": null,
   "id": "d54887b9",
   "metadata": {},
   "outputs": [],
   "source": [
    "housing['room_per_household'] = housing['total_rooms'] / housing['households']\n",
    "\n",
    "housing['bedroom_per_household'] = housing['total_bedrooms'] / housing['households']\n",
    "\n",
    "housing['population_per_household'] = housing['population'] / housing['households']"
   ]
  },
  {
   "cell_type": "code",
   "execution_count": null,
   "id": "e0b94b6b",
   "metadata": {},
   "outputs": [],
   "source": [
    "housing"
   ]
  },
  {
   "cell_type": "code",
   "execution_count": null,
   "id": "08f83162",
   "metadata": {},
   "outputs": [],
   "source": [
    "housing.corr().median_house_value.sort_values()"
   ]
  },
  {
   "cell_type": "markdown",
   "id": "d9086e89",
   "metadata": {},
   "source": [
    "# **text to categories**"
   ]
  },
  {
   "cell_type": "code",
   "execution_count": null,
   "id": "ff7749e4",
   "metadata": {},
   "outputs": [],
   "source": [
    "housing.ocean_proximity.unique()"
   ]
  },
  {
   "cell_type": "code",
   "execution_count": null,
   "id": "c848626b",
   "metadata": {},
   "outputs": [],
   "source": [
    "housing_dumies=pd.get_dummies(housing,prefix=['ocean_proximity'])"
   ]
  },
  {
   "cell_type": "markdown",
   "id": "06856995",
   "metadata": {},
   "source": [
    "# **scaling data**"
   ]
  },
  {
   "cell_type": "code",
   "execution_count": null,
   "id": "88ce193c",
   "metadata": {},
   "outputs": [],
   "source": [
    "from sklearn.preprocessing import StandardScaler\n",
    "from sklearn.preprocessing import MinMaxScaler\n",
    " \n",
    "#call the standard scaler \n",
    "std_scaler = StandardScaler()\n",
    "minmax_scaler=MinMaxScaler()\n",
    " \n",
    "#fit the values to the function \n",
    "Stand_Sc = std_scaler.fit_transform(housing_dumies.drop('median_house_value',axis=1))\n",
    "minmax_sc = minmax_scaler.fit_transform(housing_dumies.drop('median_house_value',axis=1)) "
   ]
  },
  {
   "cell_type": "code",
   "execution_count": null,
   "id": "ae894d62",
   "metadata": {},
   "outputs": [],
   "source": [
    "#use seaborn for KDE plot\n",
    "import seaborn as sns\n",
    "sns.kdeplot(Stand_Sc[:,5],fill=True, color = 'Yellow')"
   ]
  },
  {
   "cell_type": "code",
   "execution_count": null,
   "id": "47b543e1",
   "metadata": {},
   "outputs": [],
   "source": [
    "sns.kdeplot(minmax_sc[:,5],fill=True, color = 'Green')"
   ]
  },
  {
   "cell_type": "code",
   "execution_count": null,
   "id": "13b0e37d",
   "metadata": {},
   "outputs": [],
   "source": [
    "x_data=minmax_sc\n",
    "y_data=minmax_scaler.fit_transform(np.array(housing_dumies['median_house_value']).reshape(x_data.shape[0],1))\n",
    "print(x_data.shape)\n",
    "print(y_data.shape)"
   ]
  },
  {
   "cell_type": "markdown",
   "id": "e54528d8",
   "metadata": {},
   "source": [
    "# **train model**"
   ]
  },
  {
   "cell_type": "code",
   "execution_count": null,
   "id": "71ef4543",
   "metadata": {},
   "outputs": [],
   "source": [
    "from sklearn.model_selection import train_test_split\n",
    "x_train,x_test,y_train,y_test=train_test_split(x_data,y_data,test_size=0.2)"
   ]
  },
  {
   "cell_type": "code",
   "execution_count": null,
   "id": "75a5e094",
   "metadata": {},
   "outputs": [],
   "source": [
    "n_dim=x_data.shape[1]"
   ]
  },
  {
   "cell_type": "code",
   "execution_count": null,
   "id": "a0a5f6f7",
   "metadata": {},
   "outputs": [],
   "source": [
    "tf.compat.v1.disable_eager_execution()\n",
    "x=tf.compat.v1.placeholder(tf.float32,[None,n_dim])\n",
    "y=tf.compat.v1.placeholder(tf.float32,[None,1])\n",
    "w=tf.Variable(tf.ones([n_dim,1]))\n",
    "b=tf.Variable(np.random.randn(),dtype=tf.float32)"
   ]
  },
  {
   "cell_type": "code",
   "execution_count": null,
   "id": "ba8a9e3f",
   "metadata": {},
   "outputs": [],
   "source": [
    "pred=tf.add(tf.matmul(x,w),b)"
   ]
  },
  {
   "cell_type": "code",
   "execution_count": null,
   "id": "f6835a41",
   "metadata": {},
   "outputs": [],
   "source": [
    "learning_rate=400\n",
    "loss=tf.sqrt(tf.reduce_mean(tf.square(y-pred)))\n",
    "optimizer=tf.compat.v1.train.GradientDescentOptimizer(learning_rate=learning_rate).minimize(loss)"
   ]
  },
  {
   "cell_type": "code",
   "execution_count": null,
   "id": "5c7d6be5",
   "metadata": {},
   "outputs": [],
   "source": [
    "sess=tf.compat.v1.Session()\n",
    "sess.run(tf.compat.v1.global_variables_initializer())"
   ]
  },
  {
   "cell_type": "code",
   "execution_count": null,
   "id": "a3874002",
   "metadata": {},
   "outputs": [],
   "source": [
    "epochs=40000\n",
    "loss_cur=[]\n",
    "for epoch in range(epochs):\n",
    "    sess.run(optimizer,feed_dict={x:x_train,y:y_train})\n",
    "    test_loss=sess.run(loss,feed_dict={x:x_test,y:y_test})\n",
    "    train_loss=sess.run(loss,feed_dict={x:x_train,y:y_train})\n",
    "    loss_cur.append([test_loss,train_loss])\n",
    "    if epoch%400==0:\n",
    "        print('epoch {} with test loss {} vs train loss {}'.format(epoch,test_loss,train_loss)) "
   ]
  }
 ],
 "metadata": {
  "kernelspec": {
   "display_name": "Python 3 (ipykernel)",
   "language": "python",
   "name": "python3"
  },
  "language_info": {
   "codemirror_mode": {
    "name": "ipython",
    "version": 3
   },
   "file_extension": ".py",
   "mimetype": "text/x-python",
   "name": "python",
   "nbconvert_exporter": "python",
   "pygments_lexer": "ipython3",
   "version": "3.10.6"
  }
 },
 "nbformat": 4,
 "nbformat_minor": 5
}
